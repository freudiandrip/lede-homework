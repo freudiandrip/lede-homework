{
 "cells": [
  {
   "cell_type": "markdown",
   "id": "326c68ea-e534-4c7b-92cd-b152e2ab28f3",
   "metadata": {},
   "source": [
    "# Scraping Intro Homework: Wikipedia Table\n",
    "\n",
    "In this assignment, we'll be extracting data from Wikipedia's table of the tallest buildings in Brooklyn: https://en.wikipedia.org/wiki/List_of_tallest_buildings_in_Brooklyn"
   ]
  },
  {
   "cell_type": "markdown",
   "id": "ee21190f-85e3-411c-ab91-a394747c6ee3",
   "metadata": {},
   "source": [
    "### 0) Setup\n",
    "\n",
    "Import `requests`, `BeautifulSoup`, and `pandas`. Although this homework uses `BeautifulSoup`, you can choose to use `lxml` instead, if you prefer."
   ]
  },
  {
   "cell_type": "code",
   "execution_count": 3,
   "id": "ac4bb8ca-0a2e-4880-93a1-781d725b7c8b",
   "metadata": {},
   "outputs": [],
   "source": [
    "import requests\n",
    "import lxml.html\n",
    "import pandas as pd\n",
    "import pprint as pp"
   ]
  },
  {
   "cell_type": "markdown",
   "id": "1057c416-4fe6-435c-9feb-aee4ee3e1d4e",
   "metadata": {},
   "source": [
    "### 1) Grab the HTML for the webpage linked above\n",
    "\n",
    "Use `requests` to get the HTML, assigning it to a variable"
   ]
  },
  {
   "cell_type": "code",
   "execution_count": 4,
   "id": "249f7c7c-f999-45a4-bbd1-553d08ecb6f3",
   "metadata": {},
   "outputs": [],
   "source": [
    "URL = \"https://en.wikipedia.org/wiki/List_of_tallest_buildings_in_Brooklyn\"\n",
    "page = requests.get(URL).text"
   ]
  },
  {
   "cell_type": "markdown",
   "id": "92457832-c428-42dc-9f57-7dd9d037856b",
   "metadata": {},
   "source": [
    "### 2) Convert the HTML into a `BeautifulSoup` object"
   ]
  },
  {
   "cell_type": "code",
   "execution_count": 5,
   "id": "31b1c404-b7dc-4842-bd13-c75e77b51477",
   "metadata": {},
   "outputs": [],
   "source": [
    "bk_DOM = lxml.html.fromstring(page)\n",
    "\n",
    "# pp.pprint(bk_DOM.text_content())"
   ]
  },
  {
   "cell_type": "markdown",
   "id": "a5c1fd45-4005-48d7-bca2-c8c523b1c060",
   "metadata": {},
   "source": [
    "### 3) Use `.select(...)` (and `[0]`) to select the main table\n",
    "\n",
    "That's the one directly under the \"Tallest buildings\" heading.\n",
    "\n",
    "Print out the first 100 characters of text from the table to make sure you have the right one."
   ]
  },
  {
   "cell_type": "code",
   "execution_count": 6,
   "id": "e7791e7f-c6f3-4f2a-bd7e-b55c3b40022d",
   "metadata": {},
   "outputs": [],
   "source": [
    "table = bk_DOM.cssselect(\"table\")[0]\n",
    "\n",
    "# print(table.text_content())"
   ]
  },
  {
   "cell_type": "markdown",
   "id": "e4181ff2-64d6-47e7-8cb0-4bcb453b5a24",
   "metadata": {},
   "source": [
    "### 4) Use `.select(...)` (and `[0]`) again to select the table's first row\n",
    "\n",
    "... which is its header. (Reminder that the `<thead>` tag is optional. Wikipedia tables don't use it.)"
   ]
  },
  {
   "cell_type": "code",
   "execution_count": 7,
   "id": "073e34ce-0836-4657-a4ea-2b22c8deb4ab",
   "metadata": {},
   "outputs": [],
   "source": [
    "header = table.cssselect(\"tr\")[0]\n",
    "col_els = header.getchildren()"
   ]
  },
  {
   "cell_type": "markdown",
   "id": "10dec4f1-86fa-4776-8964-468aebe36b6a",
   "metadata": {},
   "source": [
    "### 5) Extract the column names from that header\n",
    "\n",
    "Use `.strip()` to remove any leading or trailing whitespace from the names.\n",
    "\n",
    "First, try doing this with a standard `for` loop:"
   ]
  },
  {
   "cell_type": "code",
   "execution_count": 8,
   "id": "fc38e978-2079-4fe7-bd4e-e4dc20cba4d4",
   "metadata": {},
   "outputs": [],
   "source": [
    "cols = list(map(lambda x: x.text.strip(), col_els))"
   ]
  },
  {
   "cell_type": "markdown",
   "id": "226f4125",
   "metadata": {},
   "source": [
    "Now try to do it with a list comprehension:"
   ]
  },
  {
   "cell_type": "code",
   "execution_count": 9,
   "id": "999fbfb0",
   "metadata": {},
   "outputs": [],
   "source": [
    "cols_list = [ col.text.strip() for col in col_els ]"
   ]
  },
  {
   "cell_type": "markdown",
   "id": "1c90e4fa-fb91-4cc4-bf2d-84d692bfc9b2",
   "metadata": {},
   "source": [
    "### 6) Select all non-header row *elements* from the table\n",
    "\n",
    "Since the header was the first row, you'll want to skip that one. How many rows are there? (Check with your eyes that this number matches what you deduce from the rankings column in the browser-rendered table.)"
   ]
  },
  {
   "cell_type": "code",
   "execution_count": 10,
   "id": "d0e982d7-4657-4ed3-ae4b-cf3e900c2763",
   "metadata": {},
   "outputs": [],
   "source": [
    "table_body = table.cssselect(\"tr\")[1:]"
   ]
  },
  {
   "cell_type": "markdown",
   "id": "ae6ed103-7aa1-4d24-9842-20a7c51eb1f4",
   "metadata": {},
   "source": [
    "### 7) For each row, extract the text of each cell into a Python list\n",
    "\n",
    "First, try this as two nested `for` loops:"
   ]
  },
  {
   "cell_type": "code",
   "execution_count": 11,
   "id": "7cb57508",
   "metadata": {},
   "outputs": [],
   "source": [
    "bk_table = []\n",
    "\n",
    "# nested list aka list of lists\n",
    "for row in table_body:\n",
    "    cells = []\n",
    "    cell_els = row.getchildren()\n",
    "\n",
    "    for cell in cell_els:\n",
    "        cells.append(cell.text_content().strip())\n",
    "\n",
    "    bk_table.append(cells)\n",
    "\n",
    "# pp.pprint(bk_table[:5])"
   ]
  },
  {
   "cell_type": "markdown",
   "id": "5c75cc42",
   "metadata": {},
   "source": [
    "Now try with two list comprehensions, one nested in the other:"
   ]
  },
  {
   "cell_type": "code",
   "execution_count": 12,
   "id": "977867a9-10b6-4fab-b6e4-dfb4b57d3f56",
   "metadata": {},
   "outputs": [],
   "source": [
    "# nested list\n",
    "bk_table_list = [[cell.text_content().strip() for cell in row] for row in table_body]\n",
    "\n",
    "# pp.pprint(list_table[:5])"
   ]
  },
  {
   "cell_type": "markdown",
   "id": "e8a5c07b-c3c3-40c2-8aeb-9a3f1e62a207",
   "metadata": {},
   "source": [
    "### 8) Turn the data you've extracted into a `pandas` `DataFrame`"
   ]
  },
  {
   "cell_type": "code",
   "execution_count": 13,
   "id": "0a907b1b-4e45-4ad6-af9e-c95d872803d1",
   "metadata": {},
   "outputs": [
    {
     "data": {
      "text/html": [
       "<div>\n",
       "<style scoped>\n",
       "    .dataframe tbody tr th:only-of-type {\n",
       "        vertical-align: middle;\n",
       "    }\n",
       "\n",
       "    .dataframe tbody tr th {\n",
       "        vertical-align: top;\n",
       "    }\n",
       "\n",
       "    .dataframe thead th {\n",
       "        text-align: right;\n",
       "    }\n",
       "</style>\n",
       "<table border=\"1\" class=\"dataframe\">\n",
       "  <thead>\n",
       "    <tr style=\"text-align: right;\">\n",
       "      <th></th>\n",
       "      <th>Rank</th>\n",
       "      <th>Name</th>\n",
       "      <th>Image</th>\n",
       "      <th>Height</th>\n",
       "      <th>Floors</th>\n",
       "      <th>Year completed</th>\n",
       "      <th>Notes</th>\n",
       "    </tr>\n",
       "  </thead>\n",
       "  <tbody>\n",
       "    <tr>\n",
       "      <th>0</th>\n",
       "      <td>1</td>\n",
       "      <td>The Brooklyn Tower</td>\n",
       "      <td></td>\n",
       "      <td>1,073 (327)</td>\n",
       "      <td>93</td>\n",
       "      <td>2022</td>\n",
       "      <td>Topped out in October 2021.[2][22][23][24]</td>\n",
       "    </tr>\n",
       "    <tr>\n",
       "      <th>1</th>\n",
       "      <td>2</td>\n",
       "      <td>Brooklyn Point</td>\n",
       "      <td></td>\n",
       "      <td>720 (219)</td>\n",
       "      <td>68</td>\n",
       "      <td>2019</td>\n",
       "      <td>The final phase of Extell's City Point develop...</td>\n",
       "    </tr>\n",
       "    <tr>\n",
       "      <th>2</th>\n",
       "      <td>3</td>\n",
       "      <td>11 Hoyt</td>\n",
       "      <td></td>\n",
       "      <td>626 (191)</td>\n",
       "      <td>51</td>\n",
       "      <td>2020</td>\n",
       "      <td>Topped out in June 2019.[31] A redevelopment o...</td>\n",
       "    </tr>\n",
       "    <tr>\n",
       "      <th>3</th>\n",
       "      <td>4</td>\n",
       "      <td>The Hub</td>\n",
       "      <td></td>\n",
       "      <td>611 (186)</td>\n",
       "      <td>52</td>\n",
       "      <td>2017</td>\n",
       "      <td>Also known as 333 Schermerhorn Street. Topped ...</td>\n",
       "    </tr>\n",
       "    <tr>\n",
       "      <th>4</th>\n",
       "      <td>5</td>\n",
       "      <td>AVA DoBro</td>\n",
       "      <td></td>\n",
       "      <td>596 (182)</td>\n",
       "      <td>58</td>\n",
       "      <td>2015</td>\n",
       "      <td>Also known as 100 Willoughby Street, Avalon Wi...</td>\n",
       "    </tr>\n",
       "  </tbody>\n",
       "</table>\n",
       "</div>"
      ],
      "text/plain": [
       "  Rank                Name Image       Height Floors Year completed  \\\n",
       "0    1  The Brooklyn Tower        1,073 (327)     93           2022   \n",
       "1    2      Brooklyn Point          720 (219)     68           2019   \n",
       "2    3             11 Hoyt          626 (191)     51           2020   \n",
       "3    4             The Hub          611 (186)     52           2017   \n",
       "4    5           AVA DoBro          596 (182)     58           2015   \n",
       "\n",
       "                                               Notes  \n",
       "0         Topped out in October 2021.[2][22][23][24]  \n",
       "1  The final phase of Extell's City Point develop...  \n",
       "2  Topped out in June 2019.[31] A redevelopment o...  \n",
       "3  Also known as 333 Schermerhorn Street. Topped ...  \n",
       "4  Also known as 100 Willoughby Street, Avalon Wi...  "
      ]
     },
     "execution_count": 13,
     "metadata": {},
     "output_type": "execute_result"
    }
   ],
   "source": [
    "df = pd.DataFrame(bk_table, columns=cols)\n",
    "bk_df = df.copy()\n",
    "bk_df.head()"
   ]
  },
  {
   "cell_type": "markdown",
   "id": "536492f4-69f9-49ca-b22e-ce2d8beb85b6",
   "metadata": {},
   "source": [
    "### 9) Which years are represented by at least 5 buildings?"
   ]
  },
  {
   "cell_type": "code",
   "execution_count": 14,
   "id": "62e51913-b5cc-4c26-a90f-fd82480d7568",
   "metadata": {},
   "outputs": [
    {
     "data": {
      "text/plain": [
       "0    2022\n",
       "1    2020\n",
       "2    2016\n",
       "Name: Year completed, dtype: object"
      ]
     },
     "execution_count": 14,
     "metadata": {},
     "output_type": "execute_result"
    }
   ],
   "source": [
    "#https://pandas.pydata.org/docs/reference/api/pandas.Series.value_counts.html\n",
    "#check\n",
    "df['Year completed'].value_counts()\n",
    "\n",
    "bk_df['Year completed'].value_counts().loc[lambda x: x >= 5].reset_index()['Year completed']"
   ]
  },
  {
   "cell_type": "code",
   "execution_count": 18,
   "id": "ab18b73a-336a-4a1d-86bd-ae15fa68bf4f",
   "metadata": {},
   "outputs": [
    {
     "data": {
      "text/plain": [
       "Year completed\n",
       "2022    11\n",
       "2020     6\n",
       "2016     6\n",
       "Name: count, dtype: int64"
      ]
     },
     "execution_count": 18,
     "metadata": {},
     "output_type": "execute_result"
    }
   ],
   "source": [
    "# alternatively!!!\n",
    "\n",
    "year_counts = df['Year completed'].value_counts()\n",
    "year_counts[year_counts >= 5]"
   ]
  },
  {
   "cell_type": "markdown",
   "id": "a5ec3b84-1288-4e61-8f24-5e53b6490e73",
   "metadata": {},
   "source": [
    "### 10) How many total floors do all the buildings have, combined?"
   ]
  },
  {
   "cell_type": "code",
   "execution_count": 15,
   "id": "d595d942-ed04-45c3-b2f5-b0f8f02702a4",
   "metadata": {},
   "outputs": [
    {
     "name": "stdout",
     "output_type": "stream",
     "text": [
      "Total floors on all buildings are: 2603\n"
     ]
    }
   ],
   "source": [
    "floors = sum(bk_df['Floors'].astype(int))\n",
    "print(\"Total floors on all buildings are:\", floors)"
   ]
  },
  {
   "cell_type": "markdown",
   "id": "6ffae15d-d9c3-466d-8abb-99ddecb2f2dd",
   "metadata": {},
   "source": [
    "### 11) How many of the buildings have their own Wikipedia page?\n",
    "\n",
    "For this, you'll need to query the row elements again; the information won't have been extracted into your `DataFrame`. (Hint: Whether a building has its own Wikipedia page isn't an explicit piece of data, but something you can infer from the presence of a particular sub-element.)"
   ]
  },
  {
   "cell_type": "code",
   "execution_count": 16,
   "id": "c1432c68-b0f9-4f29-82fd-bd3f3c7ffdf9",
   "metadata": {},
   "outputs": [],
   "source": [
    "# get rows\n",
    "# read for a-tag link in name\n",
    "# write new element to list\n",
    "# ---> if a-tag link exists = 1\n",
    "# ---> no a tag = 0\n",
    "# write to df --> do df['link'].value_counts()"
   ]
  },
  {
   "cell_type": "code",
   "execution_count": 26,
   "id": "8fed7a78-ac3c-4add-bdf2-1145aa6a7303",
   "metadata": {},
   "outputs": [
    {
     "data": {
      "text/plain": [
       "17"
      ]
     },
     "execution_count": 26,
     "metadata": {},
     "output_type": "execute_result"
    }
   ],
   "source": [
    "# jeremy's answer:\n",
    "## select the row, a tag count.\n",
    "second_cells = [ row.cssselect(\"td\")[1] for row in table_body ]\n",
    "\n",
    "sum(len(cell.cssselect(\"a\")) > 0 for cell in second_cells)"
   ]
  },
  {
   "cell_type": "markdown",
   "id": "317eb366-55fb-446d-a105-22dffe4b9db3",
   "metadata": {},
   "source": [
    "### 12) How many have an image?\n",
    "\n",
    "You could do this by testing for the presence of another element:"
   ]
  },
  {
   "cell_type": "code",
   "execution_count": null,
   "id": "ab25e8c3-4744-4198-9707-9845a843053e",
   "metadata": {},
   "outputs": [],
   "source": []
  },
  {
   "cell_type": "markdown",
   "id": "630b88de-02df-45e4-8cf6-f15eb5507ae3",
   "metadata": {},
   "source": [
    "Or through information that's already in your `DataFrame`:"
   ]
  },
  {
   "cell_type": "code",
   "execution_count": 28,
   "id": "5434878d-7c14-405c-bb6d-5547a06d398c",
   "metadata": {},
   "outputs": [
    {
     "data": {
      "text/plain": [
       "56"
      ]
     },
     "execution_count": 28,
     "metadata": {},
     "output_type": "execute_result"
    }
   ],
   "source": [
    "# check if image col is not empty or != None?\n",
    "# count how many aren't empty.\n",
    "\n",
    "(bk_df[\"Image\"] != \"—\").sum()"
   ]
  },
  {
   "cell_type": "markdown",
   "id": "e3a7067b",
   "metadata": {},
   "source": [
    "### Bonus challenge\n",
    "\n",
    "If we tried to run the same code on https://en.wikipedia.org/wiki/List_of_tallest_buildings_in_New_York_City instead, the results wouldn't be quite right. Try it. Then, examining the HTML of that page, try to figure out why.\n",
    "\n",
    "If you want an extra-extra challenge, try writing code that would parse that table correctly."
   ]
  },
  {
   "cell_type": "code",
   "execution_count": null,
   "id": "2e9ba66c",
   "metadata": {},
   "outputs": [],
   "source": []
  },
  {
   "cell_type": "markdown",
   "id": "fac108f8-9c41-451a-a481-f2bfde3372e5",
   "metadata": {},
   "source": [
    "---\n",
    "\n",
    "---\n",
    "\n",
    "---"
   ]
  }
 ],
 "metadata": {
  "kernelspec": {
   "display_name": "Python 3 (ipykernel)",
   "language": "python",
   "name": "python3"
  },
  "language_info": {
   "codemirror_mode": {
    "name": "ipython",
    "version": 3
   },
   "file_extension": ".py",
   "mimetype": "text/x-python",
   "name": "python",
   "nbconvert_exporter": "python",
   "pygments_lexer": "ipython3",
   "version": "3.10.11"
  }
 },
 "nbformat": 4,
 "nbformat_minor": 5
}
