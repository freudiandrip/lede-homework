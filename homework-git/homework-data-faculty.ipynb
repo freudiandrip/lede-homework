{
 "cells": [
  {
   "cell_type": "markdown",
   "id": "326c68ea-e534-4c7b-92cd-b152e2ab28f3",
   "metadata": {},
   "source": [
    "# Scraping Intro Homework: Columbia J-School Data Faculty\n",
    "\n",
    "In this assignment, we'll practicing our scraping skills by examining the Columbia Journalism School's listing of data faculty: https://journalism.columbia.edu/faculty?expertise=116"
   ]
  },
  {
   "cell_type": "markdown",
   "id": "ee21190f-85e3-411c-ab91-a394747c6ee3",
   "metadata": {},
   "source": [
    "### 0) Setup\n",
    "\n",
    "Import `requests`, `BeautifulSoup`, and `pandas`. Remember that even though we installed the library as `pip install beautifulsoup4`, the import statement we practiced is slightly different."
   ]
  },
  {
   "cell_type": "code",
   "execution_count": 7,
   "id": "ac4bb8ca-0a2e-4880-93a1-781d725b7c8b",
   "metadata": {},
   "outputs": [],
   "source": [
    "import requests\n",
    "import pandas as pd\n",
    "import lxml.html\n",
    "import pprint as pp"
   ]
  },
  {
   "cell_type": "markdown",
   "id": "1057c416-4fe6-435c-9feb-aee4ee3e1d4e",
   "metadata": {},
   "source": [
    "### 1) Grab the HTML for the webpage linked above\n",
    "\n",
    "Use `requests` to get the HTML, assigning it to a variable"
   ]
  },
  {
   "cell_type": "code",
   "execution_count": 2,
   "id": "249f7c7c-f999-45a4-bbd1-553d08ecb6f3",
   "metadata": {
    "scrolled": true
   },
   "outputs": [],
   "source": [
    "URL = \"https://journalism.columbia.edu/faculty?expertise=116\"\n",
    "page = requests.get(URL).text"
   ]
  },
  {
   "cell_type": "markdown",
   "id": "92457832-c428-42dc-9f57-7dd9d037856b",
   "metadata": {},
   "source": [
    "### 2) Use `BeautifulSoup` to convert the HTML into its DOM representation"
   ]
  },
  {
   "cell_type": "code",
   "execution_count": 3,
   "id": "31b1c404-b7dc-4842-bd13-c75e77b51477",
   "metadata": {},
   "outputs": [
    {
     "name": "stdout",
     "output_type": "stream",
     "text": [
      "<Element html at 0x1107a0a40>\n"
     ]
    }
   ],
   "source": [
    "j_DOM = lxml.html.fromstring(page)\n",
    "pp.pprint(j_DOM)"
   ]
  },
  {
   "cell_type": "markdown",
   "id": "a5c1fd45-4005-48d7-bca2-c8c523b1c060",
   "metadata": {},
   "source": [
    "### 3) Use `.select(...)` to select all elements representing a faculty member\n",
    "\n",
    "Assign the resulting elements to a variable named `faculty_els`.\n",
    "\n",
    "You'll want \"View Source\" or pop open the Element Inspector to figure out which elements to target.\n",
    "\n",
    "Note: An element's `class` attribute can contain *multiple* classes, separated by spaces. For example: `<div class=\"potato hamburger\">Hello</div>` has two classes, `potato` and `hamburger`. \n",
    "\n",
    "A CSS selector for *either* of the classes — `soup.select(\".potato\")` *or* `soup.select(\".hamburger\")` — will both match that element."
   ]
  },
  {
   "cell_type": "code",
   "execution_count": 4,
   "id": "e7791e7f-c6f3-4f2a-bd7e-b55c3b40022d",
   "metadata": {},
   "outputs": [],
   "source": [
    "faculty_els = j_DOM.cssselect(\".views-row\")"
   ]
  },
  {
   "cell_type": "markdown",
   "id": "e4181ff2-64d6-47e7-8cb0-4bcb453b5a24",
   "metadata": {},
   "source": [
    "### 4) Count the number of matching elements, using `len`\n",
    "\n",
    "Does it match the number of faculty you see on the page? (It should.)"
   ]
  },
  {
   "cell_type": "code",
   "execution_count": 5,
   "id": "073e34ce-0836-4657-a4ea-2b22c8deb4ab",
   "metadata": {},
   "outputs": [
    {
     "data": {
      "text/plain": [
       "8"
      ]
     },
     "execution_count": 5,
     "metadata": {},
     "output_type": "execute_result"
    }
   ],
   "source": [
    "len(faculty_els)"
   ]
  },
  {
   "cell_type": "markdown",
   "id": "10dec4f1-86fa-4776-8964-468aebe36b6a",
   "metadata": {},
   "source": [
    "### 5) For each faculty member, print their name, title, and faculty page URL\n",
    "\n",
    "You'll want to construct a `for` loop. In each iteration of the loop, print out something that looks like this:\n",
    "\n",
    "```\n",
    "Denise Ajiri's title is 'Adjunct Assistant Professor'. You can find more information about them @ /faculty/denise-ajiri\n",
    "---\n",
    "```\n",
    "\n",
    "You'll note that the \"href\" is not a complete URL, but rather a \"[relative path](https://www.w3schools.com/html/html_filepaths.asp)\". Don't worry too much about that for now, although you're welcome to try \"solving\" that part."
   ]
  },
  {
   "cell_type": "code",
   "execution_count": 6,
   "id": "fc38e978-2079-4fe7-bd4e-e4dc20cba4d4",
   "metadata": {},
   "outputs": [
    {
     "name": "stdout",
     "output_type": "stream",
     "text": [
      "\n",
      "Denise Ajiri's title is 'Adjunct Assistant Professor'. You can find more information about them @ https://journalism.columbia.edu/faculty/denise-ajiri\n",
      "\n",
      "---------------------------------------------\n",
      "\n",
      "\n",
      "Andrea Fuller's title is 'Adjunct Faculty'. You can find more information about them @ https://journalism.columbia.edu/faculty/andrea-fuller\n",
      "\n",
      "---------------------------------------------\n",
      "\n",
      "\n",
      "Robert Gebeloff's title is 'Adjunct Faculty'. You can find more information about them @ https://journalism.columbia.edu/faculty/robert-gebeloff\n",
      "\n",
      "---------------------------------------------\n",
      "\n",
      "\n",
      "Mark Hansen's title is 'David and Helen Gurley Brown Professor of Journalism and Innovation; Director, David and Helen Gurley Brown Institute of Media Innovation'. You can find more information about them @ https://journalism.columbia.edu/faculty/mark-hansen\n",
      "\n",
      "---------------------------------------------\n",
      "\n",
      "\n",
      "Tom  Meagher's title is 'Adjunct Faculty'. You can find more information about them @ https://journalism.columbia.edu/faculty/tom-meagher\n",
      "\n",
      "---------------------------------------------\n",
      "\n",
      "\n",
      "Dhrumil Mehta's title is 'Associate Professor in Data Journalism; Deputy Director of the Tow Center for Digital Journalism'. You can find more information about them @ https://journalism.columbia.edu/faculty/dhrumil-mehta\n",
      "\n",
      "---------------------------------------------\n",
      "\n",
      "\n",
      "Matt Rocheleau's title is 'Adjunct Faculty'. You can find more information about them @ https://journalism.columbia.edu/faculty/matt-rocheleau\n",
      "\n",
      "---------------------------------------------\n",
      "\n",
      "\n",
      "Giannina Segnini's title is 'John S. and James L. Knight Professor of Professional Practice in Data Journalism'. You can find more information about them @ https://journalism.columbia.edu/faculty/giannina-segnini\n",
      "\n",
      "---------------------------------------------\n",
      "\n"
     ]
    }
   ],
   "source": [
    "j_root_url = \"https://journalism.columbia.edu\"\n",
    "j_names = j_DOM.cssselect(\"h2.title a\")\n",
    "j_titles = j_DOM.cssselect(\".sub-title p\")\n",
    "j_list = []\n",
    "\n",
    "for i in range(len(faculty_els)):\n",
    "    d = {}\n",
    "    \n",
    "    name = j_names[i].text\n",
    "    d['name'] = name\n",
    "    \n",
    "    title = j_titles[i].text_content() # can use .text or .text_content() method\n",
    "    d['title'] = title\n",
    "    \n",
    "    link = j_root_url + j_names[i].attrib[\"href\"]\n",
    "    d['link'] = link\n",
    "\n",
    "    j_list.append(d)\n",
    "    blurb = f\"\\n{name}'s title is '{title}'. You can find more information about them @ {link}\\n\"\n",
    "    print(blurb)\n",
    "    print(\"---------------------------------------------\\n\")"
   ]
  },
  {
   "cell_type": "markdown",
   "id": "1c90e4fa-fb91-4cc4-bf2d-84d692bfc9b2",
   "metadata": {},
   "source": [
    "### 6) Now, let's do the same thing, but storing the info in a `pandas` `DataFrame`\n",
    "\n",
    "Specifically, a `DataFrame` with the columns `name`, `title`, `href`."
   ]
  },
  {
   "cell_type": "code",
   "execution_count": 10,
   "id": "d0e982d7-4657-4ed3-ae4b-cf3e900c2763",
   "metadata": {},
   "outputs": [
    {
     "data": {
      "text/html": [
       "<div>\n",
       "<style scoped>\n",
       "    .dataframe tbody tr th:only-of-type {\n",
       "        vertical-align: middle;\n",
       "    }\n",
       "\n",
       "    .dataframe tbody tr th {\n",
       "        vertical-align: top;\n",
       "    }\n",
       "\n",
       "    .dataframe thead th {\n",
       "        text-align: right;\n",
       "    }\n",
       "</style>\n",
       "<table border=\"1\" class=\"dataframe\">\n",
       "  <thead>\n",
       "    <tr style=\"text-align: right;\">\n",
       "      <th></th>\n",
       "      <th>name</th>\n",
       "      <th>title</th>\n",
       "      <th>link</th>\n",
       "    </tr>\n",
       "  </thead>\n",
       "  <tbody>\n",
       "    <tr>\n",
       "      <th>0</th>\n",
       "      <td>Denise Ajiri</td>\n",
       "      <td>Adjunct Assistant Professor</td>\n",
       "      <td>https://journalism.columbia.edu/faculty/denise...</td>\n",
       "    </tr>\n",
       "    <tr>\n",
       "      <th>1</th>\n",
       "      <td>Andrea Fuller</td>\n",
       "      <td>Adjunct Faculty</td>\n",
       "      <td>https://journalism.columbia.edu/faculty/andrea...</td>\n",
       "    </tr>\n",
       "    <tr>\n",
       "      <th>2</th>\n",
       "      <td>Robert Gebeloff</td>\n",
       "      <td>Adjunct Faculty</td>\n",
       "      <td>https://journalism.columbia.edu/faculty/robert...</td>\n",
       "    </tr>\n",
       "    <tr>\n",
       "      <th>3</th>\n",
       "      <td>Mark Hansen</td>\n",
       "      <td>David and Helen Gurley Brown Professor of Jour...</td>\n",
       "      <td>https://journalism.columbia.edu/faculty/mark-h...</td>\n",
       "    </tr>\n",
       "    <tr>\n",
       "      <th>4</th>\n",
       "      <td>Tom  Meagher</td>\n",
       "      <td>Adjunct Faculty</td>\n",
       "      <td>https://journalism.columbia.edu/faculty/tom-me...</td>\n",
       "    </tr>\n",
       "    <tr>\n",
       "      <th>5</th>\n",
       "      <td>Dhrumil Mehta</td>\n",
       "      <td>Associate Professor in Data Journalism; Deputy...</td>\n",
       "      <td>https://journalism.columbia.edu/faculty/dhrumi...</td>\n",
       "    </tr>\n",
       "    <tr>\n",
       "      <th>6</th>\n",
       "      <td>Matt Rocheleau</td>\n",
       "      <td>Adjunct Faculty</td>\n",
       "      <td>https://journalism.columbia.edu/faculty/matt-r...</td>\n",
       "    </tr>\n",
       "    <tr>\n",
       "      <th>7</th>\n",
       "      <td>Giannina Segnini</td>\n",
       "      <td>John S. and James L. Knight Professor of Profe...</td>\n",
       "      <td>https://journalism.columbia.edu/faculty/gianni...</td>\n",
       "    </tr>\n",
       "  </tbody>\n",
       "</table>\n",
       "</div>"
      ],
      "text/plain": [
       "               name                                              title  \\\n",
       "0      Denise Ajiri                        Adjunct Assistant Professor   \n",
       "1     Andrea Fuller                                    Adjunct Faculty   \n",
       "2   Robert Gebeloff                                    Adjunct Faculty   \n",
       "3       Mark Hansen  David and Helen Gurley Brown Professor of Jour...   \n",
       "4      Tom  Meagher                                    Adjunct Faculty   \n",
       "5     Dhrumil Mehta  Associate Professor in Data Journalism; Deputy...   \n",
       "6    Matt Rocheleau                                    Adjunct Faculty   \n",
       "7  Giannina Segnini  John S. and James L. Knight Professor of Profe...   \n",
       "\n",
       "                                                link  \n",
       "0  https://journalism.columbia.edu/faculty/denise...  \n",
       "1  https://journalism.columbia.edu/faculty/andrea...  \n",
       "2  https://journalism.columbia.edu/faculty/robert...  \n",
       "3  https://journalism.columbia.edu/faculty/mark-h...  \n",
       "4  https://journalism.columbia.edu/faculty/tom-me...  \n",
       "5  https://journalism.columbia.edu/faculty/dhrumi...  \n",
       "6  https://journalism.columbia.edu/faculty/matt-r...  \n",
       "7  https://journalism.columbia.edu/faculty/gianni...  "
      ]
     },
     "execution_count": 10,
     "metadata": {},
     "output_type": "execute_result"
    }
   ],
   "source": [
    "# https://pandas.pydata.org/docs/reference/api/pandas.DataFrame.from_records.html\n",
    "\n",
    "df = pd.DataFrame.from_records(j_list)\n",
    "df"
   ]
  },
  {
   "cell_type": "markdown",
   "id": "ae6ed103-7aa1-4d24-9842-20a7c51eb1f4",
   "metadata": {},
   "source": [
    "### 7) Using that `DataFrame`, calculate how many are \"Adjunct Faculty\""
   ]
  },
  {
   "cell_type": "code",
   "execution_count": 11,
   "id": "977867a9-10b6-4fab-b6e4-dfb4b57d3f56",
   "metadata": {},
   "outputs": [
    {
     "name": "stdout",
     "output_type": "stream",
     "text": [
      "There are currently 4 adjuncts\n",
      "There are currently 4 adjuncts\n"
     ]
    }
   ],
   "source": [
    "adjunct1 = len(df[df.title == 'Adjunct Faculty'])\n",
    "print(f\"There are currently {adjunct1} adjuncts\")\n",
    "\n",
    "## OR !!!!!!\n",
    "\n",
    "adjunct2 = len(df[df.title == 'Adjunct Faculty'].value_counts())\n",
    "print(f\"There are currently {adjunct2} adjuncts\")"
   ]
  },
  {
   "cell_type": "markdown",
   "id": "fac108f8-9c41-451a-a481-f2bfde3372e5",
   "metadata": {},
   "source": [
    "---\n",
    "\n",
    "---\n",
    "\n",
    "---"
   ]
  }
 ],
 "metadata": {
  "kernelspec": {
   "display_name": "Python 3 (ipykernel)",
   "language": "python",
   "name": "python3"
  },
  "language_info": {
   "codemirror_mode": {
    "name": "ipython",
    "version": 3
   },
   "file_extension": ".py",
   "mimetype": "text/x-python",
   "name": "python",
   "nbconvert_exporter": "python",
   "pygments_lexer": "ipython3",
   "version": "3.10.11"
  }
 },
 "nbformat": 4,
 "nbformat_minor": 5
}
